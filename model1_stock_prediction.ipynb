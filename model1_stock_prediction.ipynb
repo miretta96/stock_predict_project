{
 "cells": [
  {
   "cell_type": "code",
   "execution_count": 29,
   "metadata": {},
   "outputs": [],
   "source": [
    "import pandas as pd # 데이터 분석을 위한 패키지\n",
    "import numpy as np # 연산을 위한 패키지\n",
    "import FinanceDataReader as fdr # 주식 데이터를 읽어오는 패키지\n",
    "import matplotlib.pyplot as plt # 시각화를 위한 패키지\n",
    "\n",
    "import tensorflow \n",
    "from tensorflow.keras.models import Sequential\n",
    "from tensorflow.keras.layers import Dense, Dropout\n",
    "from tensorflow.keras.layers import LSTM \n",
    "from tensorflow.keras import optimizers # 최적화 \n",
    "\n",
    "from sklearn.preprocessing import MinMaxScaler\n",
    "from sklearn.model_selection import train_test_split\n",
    "\n",
    "# 기술적 지표를 위한 패키지\n",
    "import talib"
   ]
  },
  {
   "cell_type": "code",
   "execution_count": 2,
   "metadata": {},
   "outputs": [
    {
     "data": {
      "text/html": [
       "<div>\n",
       "<style scoped>\n",
       "    .dataframe tbody tr th:only-of-type {\n",
       "        vertical-align: middle;\n",
       "    }\n",
       "\n",
       "    .dataframe tbody tr th {\n",
       "        vertical-align: top;\n",
       "    }\n",
       "\n",
       "    .dataframe thead th {\n",
       "        text-align: right;\n",
       "    }\n",
       "</style>\n",
       "<table border=\"1\" class=\"dataframe\">\n",
       "  <thead>\n",
       "    <tr style=\"text-align: right;\">\n",
       "      <th></th>\n",
       "      <th>Open</th>\n",
       "      <th>High</th>\n",
       "      <th>Low</th>\n",
       "      <th>Close</th>\n",
       "      <th>Volume</th>\n",
       "      <th>Change</th>\n",
       "    </tr>\n",
       "    <tr>\n",
       "      <th>Date</th>\n",
       "      <th></th>\n",
       "      <th></th>\n",
       "      <th></th>\n",
       "      <th></th>\n",
       "      <th></th>\n",
       "      <th></th>\n",
       "    </tr>\n",
       "  </thead>\n",
       "  <tbody>\n",
       "    <tr>\n",
       "      <th>2011-09-26</th>\n",
       "      <td>15200</td>\n",
       "      <td>15740</td>\n",
       "      <td>15180</td>\n",
       "      <td>15500</td>\n",
       "      <td>480907</td>\n",
       "      <td>0.022427</td>\n",
       "    </tr>\n",
       "    <tr>\n",
       "      <th>2011-09-27</th>\n",
       "      <td>16100</td>\n",
       "      <td>16100</td>\n",
       "      <td>15820</td>\n",
       "      <td>16080</td>\n",
       "      <td>331600</td>\n",
       "      <td>0.037419</td>\n",
       "    </tr>\n",
       "    <tr>\n",
       "      <th>2011-09-28</th>\n",
       "      <td>16480</td>\n",
       "      <td>16500</td>\n",
       "      <td>15820</td>\n",
       "      <td>16140</td>\n",
       "      <td>486551</td>\n",
       "      <td>0.003731</td>\n",
       "    </tr>\n",
       "    <tr>\n",
       "      <th>2011-09-29</th>\n",
       "      <td>16080</td>\n",
       "      <td>16960</td>\n",
       "      <td>16080</td>\n",
       "      <td>16740</td>\n",
       "      <td>553981</td>\n",
       "      <td>0.037175</td>\n",
       "    </tr>\n",
       "    <tr>\n",
       "      <th>2011-09-30</th>\n",
       "      <td>16600</td>\n",
       "      <td>16800</td>\n",
       "      <td>16220</td>\n",
       "      <td>16800</td>\n",
       "      <td>516023</td>\n",
       "      <td>0.003584</td>\n",
       "    </tr>\n",
       "  </tbody>\n",
       "</table>\n",
       "</div>"
      ],
      "text/plain": [
       "             Open   High    Low  Close  Volume    Change\n",
       "Date                                                    \n",
       "2011-09-26  15200  15740  15180  15500  480907  0.022427\n",
       "2011-09-27  16100  16100  15820  16080  331600  0.037419\n",
       "2011-09-28  16480  16500  15820  16140  486551  0.003731\n",
       "2011-09-29  16080  16960  16080  16740  553981  0.037175\n",
       "2011-09-30  16600  16800  16220  16800  516023  0.003584"
      ]
     },
     "execution_count": 2,
     "metadata": {},
     "output_type": "execute_result"
    }
   ],
   "source": [
    "# FinanceDataReader를 이용해 주식 데이터를 읽어옴\n",
    "# (주식코드, 시작날짜, 끝날짜)\n",
    "df = fdr.DataReader('005930', start='9/25/2011',end='9/25/2021')\n",
    "df.head()"
   ]
  },
  {
   "cell_type": "code",
   "execution_count": 12,
   "metadata": {},
   "outputs": [],
   "source": [
    "# 현재는 'Date' 컬럼이 데이터프레임의 index로 설정되어 있음\n",
    "# 이를 'date'라는 별도의 컬럼으로 설정하고, 인덱스는 숫자로 재설정\n",
    "df['date'] = df.index\n",
    "df = df.reset_index(drop = True)"
   ]
  },
  {
   "cell_type": "code",
   "execution_count": 13,
   "metadata": {},
   "outputs": [],
   "source": [
    "# 시계열 데이터로 변환해 주는 함수\n",
    "def build_timeseries(mat, TIME_STEPS):\n",
    "    \n",
    "    dim_0 = mat.shape[0] - TIME_STEPS  # dim_0 = 92 - 3= 89\n",
    "    dim_1 = mat.shape[1]  # dim_1 = 5\n",
    "\n",
    "    x = np.zeros((dim_0, TIME_STEPS, dim_1))  # X shape\n",
    "    y = np.zeros((dim_0,))  # y shape\n",
    "\n",
    "    # 반복문을 통해 입력값과 출력값을 매칭\n",
    "    # x는 입력값, y는 타겟 값\n",
    "    for i in range(dim_0):\n",
    "        x[i] = mat[i:TIME_STEPS + i]\n",
    "\n",
    "        y[i] = mat[TIME_STEPS + i, 0]\n",
    "\n",
    "    print(\"length of time-series i/o\", x.shape, y.shape)\n",
    "    \n",
    "    # 입력값과 출력값을 반환\n",
    "    return x, y"
   ]
  },
  {
   "cell_type": "code",
   "execution_count": 19,
   "metadata": {},
   "outputs": [
    {
     "name": "stdout",
     "output_type": "stream",
     "text": [
      "Shape of X train data:  (2215, 5)\n",
      "Shape of Y train data:  (2215, 1)\n"
     ]
    }
   ],
   "source": [
    "# 입력 데이터 설정, 총 10개의 입력 값으로 다음 시점의 PM2.5 값을 예측\n",
    "train_columns = ['Open', 'High','Low','Close','Volume']\n",
    "# 타겟 컬럼 설정\n",
    "test_column = ['Close']\n",
    "\n",
    "# 테스트 데이터의 사이즈 설정\n",
    "test_set_size = 250\n",
    "train_set_size = len(df) - test_set_size\n",
    "\n",
    "# 훈련 데이터 분할\n",
    "# x_train: 훈련 데이터의 입력 값\n",
    "# y_train: 훈련 데이터의 타겟 값\n",
    "x_train = df.loc[0:train_set_size, train_columns].values\n",
    "y_train = df.loc[0:train_set_size, test_column].values\n",
    "\n",
    "# 테스트 데이터 분할\n",
    "# x_test: 테스트 데이터의 입력 값\n",
    "# y_test: 테스트 데이터의 타겟 값\n",
    "x_test = df.loc[train_set_size:, train_columns].values\n",
    "y_test = df.loc[train_set_size:, test_column].values\n",
    "\n",
    "print(\"Shape of X train data: \", x_train.shape)\n",
    "print(\"Shape of Y train data: \", y_train.shape)"
   ]
  },
  {
   "cell_type": "code",
   "execution_count": 20,
   "metadata": {},
   "outputs": [],
   "source": [
    "# MIN-MAX 스케일러(scaler)\n",
    "# 전체 값들을 0~1 사이의 값으로 변화해줌 \n",
    "min_max_scaler = MinMaxScaler()\n",
    "min_max_scaler_label = MinMaxScaler()\n",
    "\n",
    "# 훈련 데이터에 대해 스케일링\n",
    "x_train_scaled = min_max_scaler.fit_transform(x_train)\n",
    "y_train_scaled = min_max_scaler_label.fit_transform(y_train)\n",
    "\n",
    "# 테스트 데이터에 대해 스케일링\n",
    "x_test_scaled = min_max_scaler.transform(x_test)\n",
    "y_test_scaled = min_max_scaler_label.transform(y_test)"
   ]
  },
  {
   "cell_type": "code",
   "execution_count": 26,
   "metadata": {},
   "outputs": [
    {
     "name": "stdout",
     "output_type": "stream",
     "text": [
      "length of time-series i/o (2210, 5, 5) (2210,)\n",
      "length of time-series i/o (245, 5, 5) (245,)\n",
      "\n",
      "Shape of x_train_scaled_time:  (2210, 5, 5)\n",
      "Shape of y_train_scaled_time:  (2210,)\n"
     ]
    }
   ],
   "source": [
    "# 시계열 길이를 결정하는 time-step의 값을 5로 설정\n",
    "# 즉 5개의 과거 데이터를 사용해 다음 값을 예측\n",
    "time_step = 5\n",
    "\n",
    "x_train_scaled_time, y_train_scaled_time = build_timeseries(x_train_scaled, time_step)\n",
    "\n",
    "x_test_scaled_time, y_test_scaled_time = build_timeseries(x_test_scaled, time_step)\n",
    "\n",
    "print()\n",
    "print(\"Shape of x_train_scaled_time: \", x_train_scaled_time.shape)\n",
    "print(\"Shape of y_train_scaled_time: \", y_train_scaled_time.shape)"
   ]
  },
  {
   "cell_type": "code",
   "execution_count": 27,
   "metadata": {},
   "outputs": [],
   "source": [
    "# LSTM + ANN 구조\n",
    "def create_model(train_X):\n",
    "\n",
    "    lstm_model = Sequential()\n",
    "    # LSTM 층: 50개의 노드(node) 개수\n",
    "    lstm_model.add(LSTM(50, input_shape=(train_X.shape[1], train_X.shape[2])))\n",
    "    # 출력층: 1개의 노드\n",
    "    lstm_model.add(Dense(1))\n",
    "    \n",
    "    # 손실함수는 mse(mean squared error)\n",
    "    # 최적화 함수는 Adam optimizer\n",
    "    lstm_model.compile(loss='mse', optimizer='adam')\n",
    "\n",
    "    return lstm_model"
   ]
  },
  {
   "cell_type": "code",
   "execution_count": 30,
   "metadata": {},
   "outputs": [
    {
     "name": "stdout",
     "output_type": "stream",
     "text": [
      "Model: \"sequential\"\n",
      "_________________________________________________________________\n",
      "Layer (type)                 Output Shape              Param #   \n",
      "=================================================================\n",
      "lstm (LSTM)                  (None, 50)                11200     \n",
      "_________________________________________________________________\n",
      "dense (Dense)                (None, 1)                 51        \n",
      "=================================================================\n",
      "Total params: 11,251\n",
      "Trainable params: 11,251\n",
      "Non-trainable params: 0\n",
      "_________________________________________________________________\n"
     ]
    }
   ],
   "source": [
    "# 모델 호출 및 구조 확인\n",
    "lstm_model = create_model(x_train_scaled_time)\n",
    "lstm_model.summary()"
   ]
  },
  {
   "cell_type": "code",
   "execution_count": 36,
   "metadata": {
    "scrolled": true
   },
   "outputs": [
    {
     "name": "stdout",
     "output_type": "stream",
     "text": [
      "Epoch 1/100\n",
      "32/32 [==============================] - 0s 11ms/step - loss: 0.0011 - val_loss: 0.0015\n",
      "Epoch 2/100\n",
      "32/32 [==============================] - 0s 9ms/step - loss: 0.0011 - val_loss: 0.0015\n",
      "Epoch 3/100\n",
      "32/32 [==============================] - 0s 6ms/step - loss: 0.0011 - val_loss: 0.0014\n",
      "Epoch 4/100\n",
      "32/32 [==============================] - 0s 7ms/step - loss: 0.0011 - val_loss: 0.0013\n",
      "Epoch 5/100\n",
      "32/32 [==============================] - 0s 9ms/step - loss: 0.0010 - val_loss: 0.0013\n",
      "Epoch 6/100\n",
      "32/32 [==============================] - 0s 10ms/step - loss: 0.0010 - val_loss: 0.0012\n",
      "Epoch 7/100\n",
      "32/32 [==============================] - 0s 9ms/step - loss: 0.0010 - val_loss: 0.0012\n",
      "Epoch 8/100\n",
      "32/32 [==============================] - 0s 7ms/step - loss: 0.0010 - val_loss: 0.0011\n",
      "Epoch 9/100\n",
      "32/32 [==============================] - 0s 6ms/step - loss: 9.9663e-04 - val_loss: 0.0011\n",
      "Epoch 10/100\n",
      "32/32 [==============================] - 0s 6ms/step - loss: 9.9084e-04 - val_loss: 0.0010\n",
      "Epoch 11/100\n",
      "32/32 [==============================] - 0s 5ms/step - loss: 9.8780e-04 - val_loss: 0.0010\n",
      "Epoch 12/100\n",
      "32/32 [==============================] - 0s 6ms/step - loss: 9.8741e-04 - val_loss: 9.8620e-04\n",
      "Epoch 13/100\n",
      "32/32 [==============================] - 0s 7ms/step - loss: 9.8976e-04 - val_loss: 9.7520e-04\n",
      "Epoch 14/100\n",
      "32/32 [==============================] - 0s 6ms/step - loss: 9.9484e-04 - val_loss: 9.7593e-04\n",
      "Epoch 15/100\n",
      "32/32 [==============================] - 0s 6ms/step - loss: 0.0010 - val_loss: 9.8326e-04\n",
      "Epoch 16/100\n",
      "32/32 [==============================] - 0s 6ms/step - loss: 0.0010 - val_loss: 0.0010\n",
      "Epoch 17/100\n",
      "32/32 [==============================] - 0s 6ms/step - loss: 0.0010 - val_loss: 0.0010\n",
      "Epoch 18/100\n",
      "32/32 [==============================] - 0s 6ms/step - loss: 0.0010 - val_loss: 0.0011\n",
      "Epoch 19/100\n",
      "32/32 [==============================] - 0s 6ms/step - loss: 0.0010 - val_loss: 0.0011\n",
      "Epoch 20/100\n",
      "32/32 [==============================] - 0s 6ms/step - loss: 0.0010 - val_loss: 0.0011\n",
      "Epoch 21/100\n",
      "32/32 [==============================] - 0s 6ms/step - loss: 0.0010 - val_loss: 0.0011\n",
      "Epoch 22/100\n",
      "32/32 [==============================] - 0s 6ms/step - loss: 0.0010 - val_loss: 0.0011\n",
      "Epoch 23/100\n",
      "32/32 [==============================] - 0s 7ms/step - loss: 0.0010 - val_loss: 0.0011\n",
      "Epoch 24/100\n",
      "32/32 [==============================] - 0s 7ms/step - loss: 9.9742e-04 - val_loss: 0.0010\n",
      "Epoch 25/100\n",
      "32/32 [==============================] - 0s 7ms/step - loss: 9.8493e-04 - val_loss: 9.8931e-04\n",
      "Epoch 26/100\n",
      "32/32 [==============================] - 0s 6ms/step - loss: 9.7338e-04 - val_loss: 9.5772e-04\n",
      "Epoch 27/100\n",
      "32/32 [==============================] - 0s 6ms/step - loss: 9.6352e-04 - val_loss: 9.3036e-04\n",
      "Epoch 28/100\n",
      "32/32 [==============================] - 0s 6ms/step - loss: 9.5549e-04 - val_loss: 9.0567e-04\n",
      "Epoch 29/100\n",
      "32/32 [==============================] - 0s 7ms/step - loss: 9.4924e-04 - val_loss: 8.8633e-04\n",
      "Epoch 30/100\n",
      "32/32 [==============================] - 0s 6ms/step - loss: 9.4403e-04 - val_loss: 8.7002e-04\n",
      "Epoch 31/100\n",
      "32/32 [==============================] - 0s 6ms/step - loss: 9.3992e-04 - val_loss: 8.5910e-04\n",
      "Epoch 32/100\n",
      "32/32 [==============================] - 0s 7ms/step - loss: 9.3622e-04 - val_loss: 8.5099e-04\n",
      "Epoch 33/100\n",
      "32/32 [==============================] - 0s 8ms/step - loss: 9.3286e-04 - val_loss: 8.4545e-04\n",
      "Epoch 34/100\n",
      "32/32 [==============================] - 0s 7ms/step - loss: 9.2987e-04 - val_loss: 8.4218e-04\n",
      "Epoch 35/100\n",
      "32/32 [==============================] - 0s 6ms/step - loss: 9.2627e-04 - val_loss: 8.3426e-04\n",
      "Epoch 36/100\n",
      "32/32 [==============================] - 0s 6ms/step - loss: 9.2212e-04 - val_loss: 8.2623e-04\n",
      "Epoch 37/100\n",
      "32/32 [==============================] - 0s 6ms/step - loss: 9.1696e-04 - val_loss: 8.1958e-04\n",
      "Epoch 38/100\n",
      "32/32 [==============================] - 0s 6ms/step - loss: 9.1198e-04 - val_loss: 8.1063e-04\n",
      "Epoch 39/100\n",
      "32/32 [==============================] - 0s 7ms/step - loss: 9.0594e-04 - val_loss: 7.9864e-04\n",
      "Epoch 40/100\n",
      "32/32 [==============================] - 0s 6ms/step - loss: 9.0000e-04 - val_loss: 7.8824e-04\n",
      "Epoch 41/100\n",
      "32/32 [==============================] - 0s 7ms/step - loss: 8.9381e-04 - val_loss: 7.7547e-04\n",
      "Epoch 42/100\n",
      "32/32 [==============================] - 0s 8ms/step - loss: 8.8777e-04 - val_loss: 7.6184e-04\n",
      "Epoch 43/100\n",
      "32/32 [==============================] - 0s 9ms/step - loss: 8.8179e-04 - val_loss: 7.5176e-04\n",
      "Epoch 44/100\n",
      "32/32 [==============================] - 0s 7ms/step - loss: 8.7641e-04 - val_loss: 7.3798e-04\n",
      "Epoch 45/100\n",
      "32/32 [==============================] - 0s 9ms/step - loss: 8.7120e-04 - val_loss: 7.2927e-04\n",
      "Epoch 46/100\n",
      "32/32 [==============================] - 0s 8ms/step - loss: 8.6658e-04 - val_loss: 7.1877e-04\n",
      "Epoch 47/100\n",
      "32/32 [==============================] - 0s 8ms/step - loss: 8.6194e-04 - val_loss: 7.1191e-04\n",
      "Epoch 48/100\n",
      "32/32 [==============================] - 0s 7ms/step - loss: 8.5791e-04 - val_loss: 7.0435e-04\n",
      "Epoch 49/100\n",
      "32/32 [==============================] - 0s 7ms/step - loss: 8.5340e-04 - val_loss: 6.9492e-04\n",
      "Epoch 50/100\n",
      "32/32 [==============================] - 0s 8ms/step - loss: 8.4872e-04 - val_loss: 6.8844e-04\n",
      "Epoch 51/100\n",
      "32/32 [==============================] - 0s 8ms/step - loss: 8.4448e-04 - val_loss: 6.8073e-04\n",
      "Epoch 52/100\n",
      "32/32 [==============================] - 0s 7ms/step - loss: 8.4021e-04 - val_loss: 6.7570e-04\n",
      "Epoch 53/100\n",
      "32/32 [==============================] - 0s 9ms/step - loss: 8.3579e-04 - val_loss: 6.6869e-04\n",
      "Epoch 54/100\n",
      "32/32 [==============================] - 0s 7ms/step - loss: 8.3061e-04 - val_loss: 6.6241e-04\n",
      "Epoch 55/100\n",
      "32/32 [==============================] - 0s 7ms/step - loss: 8.2628e-04 - val_loss: 6.5721e-04\n",
      "Epoch 56/100\n",
      "32/32 [==============================] - 0s 6ms/step - loss: 8.2126e-04 - val_loss: 6.4658e-04\n",
      "Epoch 57/100\n",
      "32/32 [==============================] - 0s 6ms/step - loss: 8.1636e-04 - val_loss: 6.4087e-04\n",
      "Epoch 58/100\n",
      "32/32 [==============================] - 0s 7ms/step - loss: 8.1143e-04 - val_loss: 6.3276e-04\n",
      "Epoch 59/100\n",
      "32/32 [==============================] - 0s 8ms/step - loss: 8.0661e-04 - val_loss: 6.2555e-04\n",
      "Epoch 60/100\n",
      "32/32 [==============================] - 0s 7ms/step - loss: 8.0206e-04 - val_loss: 6.1950e-04\n",
      "Epoch 61/100\n",
      "32/32 [==============================] - 0s 7ms/step - loss: 7.9783e-04 - val_loss: 6.1262e-04\n",
      "Epoch 62/100\n",
      "32/32 [==============================] - 0s 7ms/step - loss: 7.9346e-04 - val_loss: 6.0580e-04\n",
      "Epoch 63/100\n",
      "32/32 [==============================] - 0s 6ms/step - loss: 7.8924e-04 - val_loss: 5.9975e-04\n",
      "Epoch 64/100\n",
      "32/32 [==============================] - 0s 7ms/step - loss: 7.8517e-04 - val_loss: 5.9467e-04\n",
      "Epoch 65/100\n",
      "32/32 [==============================] - 0s 7ms/step - loss: 7.8141e-04 - val_loss: 5.9011e-04\n",
      "Epoch 66/100\n",
      "32/32 [==============================] - 0s 6ms/step - loss: 7.7777e-04 - val_loss: 5.8850e-04\n",
      "Epoch 67/100\n",
      "32/32 [==============================] - 0s 6ms/step - loss: 7.7397e-04 - val_loss: 5.8387e-04\n",
      "Epoch 68/100\n",
      "32/32 [==============================] - 0s 6ms/step - loss: 7.7018e-04 - val_loss: 5.7931e-04\n",
      "Epoch 69/100\n",
      "32/32 [==============================] - 0s 6ms/step - loss: 7.6598e-04 - val_loss: 5.7444e-04\n",
      "Epoch 70/100\n",
      "32/32 [==============================] - 0s 7ms/step - loss: 7.6198e-04 - val_loss: 5.7126e-04\n",
      "Epoch 71/100\n",
      "32/32 [==============================] - 0s 7ms/step - loss: 7.5794e-04 - val_loss: 5.6853e-04\n",
      "Epoch 72/100\n",
      "32/32 [==============================] - 0s 6ms/step - loss: 7.5420e-04 - val_loss: 5.6304e-04\n",
      "Epoch 73/100\n",
      "32/32 [==============================] - 0s 7ms/step - loss: 7.5006e-04 - val_loss: 5.5774e-04\n",
      "Epoch 74/100\n",
      "32/32 [==============================] - 0s 7ms/step - loss: 7.4613e-04 - val_loss: 5.5303e-04\n",
      "Epoch 75/100\n",
      "32/32 [==============================] - 0s 7ms/step - loss: 7.4221e-04 - val_loss: 5.4920e-04\n",
      "Epoch 76/100\n",
      "32/32 [==============================] - 0s 6ms/step - loss: 7.3858e-04 - val_loss: 5.4514e-04\n",
      "Epoch 77/100\n",
      "32/32 [==============================] - 0s 7ms/step - loss: 7.3543e-04 - val_loss: 5.4262e-04\n",
      "Epoch 78/100\n",
      "32/32 [==============================] - 0s 6ms/step - loss: 7.3228e-04 - val_loss: 5.3794e-04\n",
      "Epoch 79/100\n",
      "32/32 [==============================] - 0s 6ms/step - loss: 7.2909e-04 - val_loss: 5.3663e-04\n",
      "Epoch 80/100\n",
      "32/32 [==============================] - 0s 6ms/step - loss: 7.2630e-04 - val_loss: 5.3461e-04\n",
      "Epoch 81/100\n",
      "32/32 [==============================] - 0s 6ms/step - loss: 7.2364e-04 - val_loss: 5.3254e-04\n",
      "Epoch 82/100\n",
      "32/32 [==============================] - 0s 7ms/step - loss: 7.2099e-04 - val_loss: 5.3020e-04\n",
      "Epoch 83/100\n",
      "32/32 [==============================] - 0s 6ms/step - loss: 7.1833e-04 - val_loss: 5.2926e-04\n",
      "Epoch 84/100\n",
      "32/32 [==============================] - 0s 6ms/step - loss: 7.1552e-04 - val_loss: 5.2862e-04\n",
      "Epoch 85/100\n",
      "32/32 [==============================] - 0s 6ms/step - loss: 7.1281e-04 - val_loss: 5.2594e-04\n",
      "Epoch 86/100\n",
      "32/32 [==============================] - 0s 6ms/step - loss: 7.0971e-04 - val_loss: 5.2371e-04\n",
      "Epoch 87/100\n",
      "32/32 [==============================] - 0s 6ms/step - loss: 7.0675e-04 - val_loss: 5.2267e-04\n",
      "Epoch 88/100\n",
      "32/32 [==============================] - 0s 6ms/step - loss: 7.0331e-04 - val_loss: 5.1971e-04\n",
      "Epoch 89/100\n",
      "32/32 [==============================] - 0s 7ms/step - loss: 7.0076e-04 - val_loss: 5.1676e-04\n",
      "Epoch 90/100\n",
      "32/32 [==============================] - 0s 7ms/step - loss: 6.9808e-04 - val_loss: 5.1413e-04\n",
      "Epoch 91/100\n",
      "32/32 [==============================] - 0s 7ms/step - loss: 6.9531e-04 - val_loss: 5.1285e-04\n",
      "Epoch 92/100\n",
      "32/32 [==============================] - 0s 7ms/step - loss: 6.9286e-04 - val_loss: 5.1040e-04\n",
      "Epoch 93/100\n",
      "32/32 [==============================] - 0s 8ms/step - loss: 6.9064e-04 - val_loss: 5.0801e-04\n",
      "Epoch 94/100\n",
      "32/32 [==============================] - 0s 6ms/step - loss: 6.8830e-04 - val_loss: 5.0660e-04\n",
      "Epoch 95/100\n",
      "32/32 [==============================] - 0s 7ms/step - loss: 6.8627e-04 - val_loss: 5.0670e-04\n",
      "Epoch 96/100\n",
      "32/32 [==============================] - 0s 8ms/step - loss: 6.8402e-04 - val_loss: 5.0354e-04\n",
      "Epoch 97/100\n",
      "32/32 [==============================] - 0s 6ms/step - loss: 6.8214e-04 - val_loss: 5.0647e-04\n",
      "Epoch 98/100\n",
      "32/32 [==============================] - 0s 6ms/step - loss: 6.8019e-04 - val_loss: 5.0804e-04\n",
      "Epoch 99/100\n",
      "32/32 [==============================] - 0s 6ms/step - loss: 6.7809e-04 - val_loss: 5.0667e-04\n",
      "Epoch 100/100\n",
      "32/32 [==============================] - 0s 6ms/step - loss: 6.7561e-04 - val_loss: 5.0795e-04\n"
     ]
    }
   ],
   "source": [
    "# 모델 훈련\n",
    "# epoch: 학습 횟수 (총 20회 학습)\n",
    "# batch size: 학습시 입력할 데이터의 개수 (64를 사용)\n",
    "# validation_split: 훈련 데이터에서 검증 데이터 셋으로 사용할 비율, 0.1 => 10%\n",
    "history = lstm_model.fit(x_train_scaled_time, y_train_scaled_time, epochs=100, verbose=1, batch_size=64, shuffle=False,\n",
    "                           validation_split=0.1)"
   ]
  },
  {
   "cell_type": "code",
   "execution_count": 37,
   "metadata": {},
   "outputs": [
    {
     "data": {
      "text/plain": [
       "<matplotlib.legend.Legend at 0x2c07bd04548>"
      ]
     },
     "execution_count": 37,
     "metadata": {},
     "output_type": "execute_result"
    },
    {
     "data": {
      "image/png": "[encoded data removed]",
      "text/plain": [
       "<Figure size 576x360 with 1 Axes>"
      ]
     },
     "metadata": {
      "needs_background": "light"
     },
     "output_type": "display_data"
    }
   ],
   "source": [
    "# 훈련 손실과 검증 손실 그래프 시각화\n",
    "plt.figure(figsize=(8, 5))\n",
    "plt.plot(history.history['loss'], label='train')\n",
    "plt.plot(history.history['val_loss'], label='test')\n",
    "plt.title(\"Prediction value and real value \")\n",
    "plt.legend(loc='upper right')"
   ]
  },
  {
   "cell_type": "code",
   "execution_count": 38,
   "metadata": {},
   "outputs": [],
   "source": [
    "# 훈련된 모델에 테스트 데이터를 입력해 예측\n",
    "y_predicted = lstm_model.predict(x_test_scaled_time)\n",
    "\n",
    "# 테스트 데이터는 0~1 사이의 값으로 정규화 되었기 때문에 inverse_transform() 함수를 사용해 원래 가격으로 변환\n",
    "y_predicted_value = min_max_scaler_label.inverse_transform(y_predicted)\n",
    "y_test_value = min_max_scaler_label.inverse_transform(y_test_scaled_time.reshape(-1, 1))"
   ]
  },
  {
   "cell_type": "code",
   "execution_count": 39,
   "metadata": {},
   "outputs": [],
   "source": [
    "# 새로운 Dataframe을 생성\n",
    "compare_data_new = pd.DataFrame()\n",
    "\n",
    "# 데이터프레임에 실측치와 예측치를 각각의 컬럼에 저장\n",
    "compare_data_new['Actual Price'] = y_test_value.flatten()\n",
    "compare_data_new['Predicted Price'] = np.round(y_predicted_value,1)"
   ]
  },
  {
   "cell_type": "code",
   "execution_count": 40,
   "metadata": {},
   "outputs": [
    {
     "data": {
      "text/plain": [
       "<matplotlib.legend.Legend at 0x2c07bdb18c8>"
      ]
     },
     "execution_count": 40,
     "metadata": {},
     "output_type": "execute_result"
    },
    {
     "data": {
      "image/png": "[encoded data removed]",
      "text/plain": [
       "<Figure size 1080x432 with 1 Axes>"
      ]
     },
     "metadata": {
      "needs_background": "light"
     },
     "output_type": "display_data"
    }
   ],
   "source": [
    "# 실측치와 예측치 그래프\n",
    "plt.figure(figsize=(15, 6))\n",
    "plt.plot(y_predicted_value)\n",
    "plt.plot(y_test_value)\n",
    "plt.title(\"Prediction value and real value \" )\n",
    "plt.ylabel('PM2.5')\n",
    "plt.xlabel(\"Index\")\n",
    "plt.legend(['Prediction', 'Real'], loc='upper right')"
   ]
  }
 ],
 "metadata": {
  "kernelspec": {
   "display_name": "Python 3",
   "language": "python",
   "name": "python3"
  },
  "language_info": {
   "codemirror_mode": {
    "name": "ipython",
    "version": 3
   },
   "file_extension": ".py",
   "mimetype": "text/x-python",
   "name": "python",
   "nbconvert_exporter": "python",
   "pygments_lexer": "ipython3",
   "version": "3.8.5"
  }
 },
 "nbformat": 4,
 "nbformat_minor": 5
}
